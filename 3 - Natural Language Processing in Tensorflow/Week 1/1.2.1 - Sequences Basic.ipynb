{
  "cells": [
    {
      "cell_type": "markdown",
      "metadata": {
        "id": "view-in-github",
        "colab_type": "text"
      },
      "source": [
        "<a href=\"https://colab.research.google.com/github/praveenbenedict/tf-developer-certificate-coursera/blob/master/3%20-%20Natural%20Language%20Processing%20in%20Tensorflow/Week%201/1.2.1%20-%20Sequences%20Basic.ipynb\" target=\"_parent\"><img src=\"https://colab.research.google.com/assets/colab-badge.svg\" alt=\"Open In Colab\"/></a>"
      ]
    },
    {
      "cell_type": "code",
      "source": [
        "from tensorflow.keras.preprocessing.text import Tokenizer\n",
        "from tensorflow.keras.preprocessing.sequence import pad_sequences"
      ],
      "metadata": {
        "id": "ZTx3eDHtN2UM"
      },
      "id": "ZTx3eDHtN2UM",
      "execution_count": 8,
      "outputs": []
    },
    {
      "cell_type": "code",
      "source": [
        "sentences = [\n",
        "    'I love my dog',\n",
        "    'I love my cat',\n",
        "    'You love my dog',\n",
        "    'Do you think my dog is amazing?'\n",
        "]"
      ],
      "metadata": {
        "id": "wVO3EbIkN_IA"
      },
      "id": "wVO3EbIkN_IA",
      "execution_count": 9,
      "outputs": []
    },
    {
      "cell_type": "code",
      "source": [
        "tokenizer = Tokenizer(num_words = 100, oov_token=\"<OOV>\")\n",
        "tokenizer.fit_on_texts(sentences)"
      ],
      "metadata": {
        "id": "f5OtdFhPOSUS"
      },
      "id": "f5OtdFhPOSUS",
      "execution_count": 10,
      "outputs": []
    },
    {
      "cell_type": "code",
      "source": [
        "word_index = tokenizer.word_index\n",
        "print(word_index)"
      ],
      "metadata": {
        "id": "J1toY_ehRSPq",
        "outputId": "6c6eb232-7ee8-45c1-eb38-8393229a5a29",
        "colab": {
          "base_uri": "https://localhost:8080/"
        }
      },
      "id": "J1toY_ehRSPq",
      "execution_count": 11,
      "outputs": [
        {
          "output_type": "stream",
          "name": "stdout",
          "text": [
            "{'<OOV>': 1, 'my': 2, 'love': 3, 'dog': 4, 'i': 5, 'you': 6, 'cat': 7, 'do': 8, 'think': 9, 'is': 10, 'amazing': 11}\n"
          ]
        }
      ]
    },
    {
      "cell_type": "code",
      "source": [
        "sequences = tokenizer.texts_to_sequences(sentences)\n",
        "print(sequences)"
      ],
      "metadata": {
        "id": "u1rGVL2kRbMy",
        "outputId": "332e6582-926d-4fa2-9830-1cd0cbfd587e",
        "colab": {
          "base_uri": "https://localhost:8080/"
        }
      },
      "id": "u1rGVL2kRbMy",
      "execution_count": 12,
      "outputs": [
        {
          "output_type": "stream",
          "name": "stdout",
          "text": [
            "[[5, 3, 2, 4], [5, 3, 2, 7], [6, 3, 2, 4], [8, 6, 9, 2, 4, 10, 11]]\n"
          ]
        }
      ]
    },
    {
      "cell_type": "code",
      "source": [
        "padded = pad_sequences(sequences, padding='post', truncating='post')"
      ],
      "metadata": {
        "id": "CoM0wsJNRhBC"
      },
      "id": "CoM0wsJNRhBC",
      "execution_count": 13,
      "outputs": []
    },
    {
      "cell_type": "code",
      "source": [
        "print(padded)"
      ],
      "metadata": {
        "id": "v2rYxO7_RnDy",
        "outputId": "1ce348fe-11d8-4909-be74-a7fea35d4cd9",
        "colab": {
          "base_uri": "https://localhost:8080/"
        }
      },
      "id": "v2rYxO7_RnDy",
      "execution_count": 14,
      "outputs": [
        {
          "output_type": "stream",
          "name": "stdout",
          "text": [
            "[[ 5  3  2  4  0  0  0]\n",
            " [ 5  3  2  7  0  0  0]\n",
            " [ 6  3  2  4  0  0  0]\n",
            " [ 8  6  9  2  4 10 11]]\n"
          ]
        }
      ]
    },
    {
      "cell_type": "code",
      "source": [
        "padded = pad_sequences(sequences, padding='post', truncating='post', maxlen=5)"
      ],
      "metadata": {
        "id": "cYbuGdABR4Fa"
      },
      "id": "cYbuGdABR4Fa",
      "execution_count": 15,
      "outputs": []
    },
    {
      "cell_type": "code",
      "source": [
        "print(padded)"
      ],
      "metadata": {
        "id": "X5QkwUItp1GC",
        "outputId": "4a268b66-936c-45d3-9534-af5e65244f90",
        "colab": {
          "base_uri": "https://localhost:8080/"
        }
      },
      "id": "X5QkwUItp1GC",
      "execution_count": 16,
      "outputs": [
        {
          "output_type": "stream",
          "name": "stdout",
          "text": [
            "[[5 3 2 4 0]\n",
            " [5 3 2 7 0]\n",
            " [6 3 2 4 0]\n",
            " [8 6 9 2 4]]\n"
          ]
        }
      ]
    },
    {
      "cell_type": "code",
      "source": [
        "test_data = [\n",
        "    'I really love my dog',\n",
        "    'my dog loves my manatee'\n",
        "]"
      ],
      "metadata": {
        "id": "mH7neM0Sp6ED"
      },
      "id": "mH7neM0Sp6ED",
      "execution_count": 17,
      "outputs": []
    },
    {
      "cell_type": "code",
      "source": [
        "test_sequences = tokenizer.texts_to_sequences(test_data)"
      ],
      "metadata": {
        "id": "wL0gcv2ls8fr"
      },
      "id": "wL0gcv2ls8fr",
      "execution_count": 18,
      "outputs": []
    },
    {
      "cell_type": "code",
      "source": [
        "padded = pad_sequences(test_sequences, padding='post')"
      ],
      "metadata": {
        "id": "nnAeY9z8tD-j"
      },
      "id": "nnAeY9z8tD-j",
      "execution_count": 19,
      "outputs": []
    },
    {
      "cell_type": "code",
      "source": [
        "print(padded)"
      ],
      "metadata": {
        "id": "NzuMj3rItIRE",
        "outputId": "19415ddb-270f-4a6c-f748-af51cfe78530",
        "colab": {
          "base_uri": "https://localhost:8080/"
        }
      },
      "id": "NzuMj3rItIRE",
      "execution_count": 20,
      "outputs": [
        {
          "output_type": "stream",
          "name": "stdout",
          "text": [
            "[[5 1 3 2 4]\n",
            " [2 4 1 2 1]]\n"
          ]
        }
      ]
    },
    {
      "cell_type": "code",
      "source": [],
      "metadata": {
        "id": "M6NHQjtKtJ_w"
      },
      "id": "M6NHQjtKtJ_w",
      "execution_count": null,
      "outputs": []
    }
  ],
  "metadata": {
    "colab": {
      "provenance": [],
      "include_colab_link": true
    },
    "language_info": {
      "name": "python"
    },
    "kernelspec": {
      "name": "python3",
      "display_name": "Python 3"
    },
    "gpuClass": "standard"
  },
  "nbformat": 4,
  "nbformat_minor": 5
}