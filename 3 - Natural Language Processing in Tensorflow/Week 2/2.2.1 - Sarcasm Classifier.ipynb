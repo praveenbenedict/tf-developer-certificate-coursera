{
  "cells": [
    {
      "cell_type": "code",
      "execution_count": 24,
      "id": "ca16e164-0445-43a0-b81f-43ca5b4f036f",
      "metadata": {
        "id": "ca16e164-0445-43a0-b81f-43ca5b4f036f",
        "outputId": "0c37afe7-e333-458d-c700-fceb226e649c",
        "colab": {
          "base_uri": "https://localhost:8080/"
        }
      },
      "outputs": [
        {
          "output_type": "stream",
          "name": "stdout",
          "text": [
            "--2023-03-03 11:02:41--  https://storage.googleapis.com/tensorflow-1-public/course3/sarcasm.json\n",
            "Resolving storage.googleapis.com (storage.googleapis.com)... 74.125.20.128, 74.125.197.128, 74.125.142.128, ...\n",
            "Connecting to storage.googleapis.com (storage.googleapis.com)|74.125.20.128|:443... connected.\n",
            "HTTP request sent, awaiting response... 200 OK\n",
            "Length: 5643545 (5.4M) [application/json]\n",
            "Saving to: ‘sarcasm.json.1’\n",
            "\n",
            "\rsarcasm.json.1        0%[                    ]       0  --.-KB/s               \rsarcasm.json.1      100%[===================>]   5.38M  --.-KB/s    in 0.03s   \n",
            "\n",
            "2023-03-03 11:02:41 (169 MB/s) - ‘sarcasm.json.1’ saved [5643545/5643545]\n",
            "\n"
          ]
        }
      ],
      "source": [
        "# Download the dataset\n",
        "!wget https://storage.googleapis.com/tensorflow-1-public/course3/sarcasm.json"
      ]
    },
    {
      "cell_type": "code",
      "source": [
        "import json\n",
        "\n",
        "# Load the JSON file\n",
        "with open(\"./sarcasm.json\", 'r') as f:\n",
        "    datastore = json.load(f)\n",
        "\n",
        "# Initialize the lists\n",
        "sentences = []\n",
        "labels = []\n",
        "\n",
        "# Collect sentences and labels into the lists\n",
        "for item in datastore:\n",
        "    sentences.append(item['headline'])\n",
        "    labels.append(item['is_sarcastic'])"
      ],
      "metadata": {
        "id": "0zUiCOKfI2E6"
      },
      "id": "0zUiCOKfI2E6",
      "execution_count": 25,
      "outputs": []
    },
    {
      "cell_type": "code",
      "source": [
        "# Number of examples to use for training\n",
        "training_size = 20000\n",
        "\n",
        "# Vocabulary size of the tokenizer\n",
        "vocab_size = 10000\n",
        "\n",
        "# Maximum length of the padded sequences\n",
        "max_length = 32\n",
        "\n",
        "# Output dimensions of the Embedding layer\n",
        "embedding_dim = 16"
      ],
      "metadata": {
        "id": "pCltdWtpI5TK"
      },
      "id": "pCltdWtpI5TK",
      "execution_count": 26,
      "outputs": []
    },
    {
      "cell_type": "code",
      "source": [
        "# Split the sentences\n",
        "training_sentences = sentences[0:training_size]\n",
        "testing_sentences = sentences[training_size:]\n",
        "\n",
        "# Split the labels\n",
        "training_labels = labels[0:training_size]\n",
        "testing_labels = labels[training_size:]"
      ],
      "metadata": {
        "id": "b3rr0uk6JMU7"
      },
      "id": "b3rr0uk6JMU7",
      "execution_count": 27,
      "outputs": []
    },
    {
      "cell_type": "code",
      "source": [
        "import numpy as np\n",
        "from tensorflow.keras.preprocessing.text import Tokenizer\n",
        "from tensorflow.keras.preprocessing.sequence import pad_sequences\n",
        "\n",
        "# Parameters for padding and OOV tokens\n",
        "trunc_type='post'\n",
        "padding_type='post'\n",
        "oov_tok = \"<OOV>\"\n",
        "\n",
        "# Initialize the Tokenizer class\n",
        "tokenizer = Tokenizer(num_words=vocab_size, oov_token=oov_tok)\n",
        "\n",
        "# Generate the word index dictionary\n",
        "tokenizer.fit_on_texts(training_sentences)\n",
        "word_index = tokenizer.word_index\n",
        "\n",
        "# Generate and pad the training sequences\n",
        "training_sequences = tokenizer.texts_to_sequences(training_sentences)\n",
        "training_padded = pad_sequences(training_sequences, maxlen=max_length, padding=padding_type, truncating=trunc_type)\n",
        "\n",
        "# Generate and pad the testing sequences\n",
        "testing_sequences = tokenizer.texts_to_sequences(testing_sentences)\n",
        "testing_padded = pad_sequences(testing_sequences, maxlen=max_length, padding=padding_type, truncating=trunc_type)\n",
        "\n",
        "# Convert the labels lists into numpy arrays\n",
        "training_labels = np.array(training_labels)\n",
        "testing_labels = np.array(testing_labels)"
      ],
      "metadata": {
        "id": "bKXmLUQcJNPL"
      },
      "id": "bKXmLUQcJNPL",
      "execution_count": 28,
      "outputs": []
    },
    {
      "cell_type": "code",
      "source": [
        "import tensorflow as tf\n",
        "\n",
        "# Initialize a GlobalAveragePooling1D (GAP1D) layer\n",
        "gap1d_layer = tf.keras.layers.GlobalAveragePooling1D()\n",
        "\n",
        "# Define sample array\n",
        "sample_array = np.array([[[10,2],[1,3],[1,1]]])\n",
        "\n",
        "# Print shape and contents of sample array\n",
        "print(f'shape of sample_array = {sample_array.shape}')\n",
        "print(f'sample array: {sample_array}')\n",
        "\n",
        "# Pass the sample array to the GAP1D layer\n",
        "output = gap1d_layer(sample_array)\n",
        "\n",
        "# Print shape and contents of the GAP1D output array\n",
        "print(f'output shape of gap1d_layer: {output.shape}')\n",
        "print(f'output array of gap1d_layer: {output.numpy()}')"
      ],
      "metadata": {
        "id": "VoPVAWyZJOcy",
        "outputId": "8421264a-c9e5-49a7-e41f-102d0f326372",
        "colab": {
          "base_uri": "https://localhost:8080/"
        }
      },
      "id": "VoPVAWyZJOcy",
      "execution_count": 29,
      "outputs": [
        {
          "output_type": "stream",
          "name": "stdout",
          "text": [
            "shape of sample_array = (1, 3, 2)\n",
            "sample array: [[[10  2]\n",
            "  [ 1  3]\n",
            "  [ 1  1]]]\n",
            "output shape of gap1d_layer: (1, 2)\n",
            "output array of gap1d_layer: [[4 2]]\n"
          ]
        }
      ]
    },
    {
      "cell_type": "code",
      "source": [
        "# Build the model\n",
        "model = tf.keras.Sequential([\n",
        "    tf.keras.layers.Embedding(vocab_size, embedding_dim, input_length=max_length),\n",
        "    tf.keras.layers.GlobalAveragePooling1D(),\n",
        "    tf.keras.layers.Dense(24, activation='relu'),\n",
        "    tf.keras.layers.Dense(1, activation='sigmoid')\n",
        "])\n",
        "\n",
        "# Print the model summary\n",
        "model.summary()"
      ],
      "metadata": {
        "id": "R7_pEyhmJPtK",
        "outputId": "2c44f315-25bd-471c-8db2-ad76a8c2af7b",
        "colab": {
          "base_uri": "https://localhost:8080/"
        }
      },
      "id": "R7_pEyhmJPtK",
      "execution_count": 30,
      "outputs": [
        {
          "output_type": "stream",
          "name": "stdout",
          "text": [
            "Model: \"sequential_2\"\n",
            "_________________________________________________________________\n",
            " Layer (type)                Output Shape              Param #   \n",
            "=================================================================\n",
            " embedding_2 (Embedding)     (None, 32, 16)            160000    \n",
            "                                                                 \n",
            " global_average_pooling1d_3   (None, 16)               0         \n",
            " (GlobalAveragePooling1D)                                        \n",
            "                                                                 \n",
            " dense_4 (Dense)             (None, 24)                408       \n",
            "                                                                 \n",
            " dense_5 (Dense)             (None, 1)                 25        \n",
            "                                                                 \n",
            "=================================================================\n",
            "Total params: 160,433\n",
            "Trainable params: 160,433\n",
            "Non-trainable params: 0\n",
            "_________________________________________________________________\n"
          ]
        }
      ]
    },
    {
      "cell_type": "code",
      "source": [
        "# Compile the model\n",
        "model.compile(loss='binary_crossentropy',optimizer='adam',metrics=['accuracy'])"
      ],
      "metadata": {
        "id": "mnq73aBmJRFr"
      },
      "id": "mnq73aBmJRFr",
      "execution_count": 31,
      "outputs": []
    },
    {
      "cell_type": "code",
      "source": [
        "num_epochs = 30\n",
        "\n",
        "# Train the model\n",
        "history = model.fit(training_padded, training_labels, epochs=num_epochs, validation_data=(testing_padded, testing_labels), verbose=2)"
      ],
      "metadata": {
        "id": "C7GhYVaXJSbq",
        "outputId": "3c21d328-3230-454f-a385-7ab189f97725",
        "colab": {
          "base_uri": "https://localhost:8080/"
        }
      },
      "id": "C7GhYVaXJSbq",
      "execution_count": 32,
      "outputs": [
        {
          "output_type": "stream",
          "name": "stdout",
          "text": [
            "Epoch 1/30\n",
            "625/625 - 8s - loss: 0.5604 - accuracy: 0.6970 - val_loss: 0.3874 - val_accuracy: 0.8386 - 8s/epoch - 13ms/step\n",
            "Epoch 2/30\n",
            "625/625 - 6s - loss: 0.3030 - accuracy: 0.8762 - val_loss: 0.3431 - val_accuracy: 0.8560 - 6s/epoch - 10ms/step\n",
            "Epoch 3/30\n",
            "625/625 - 4s - loss: 0.2260 - accuracy: 0.9118 - val_loss: 0.3520 - val_accuracy: 0.8489 - 4s/epoch - 6ms/step\n",
            "Epoch 4/30\n",
            "625/625 - 3s - loss: 0.1807 - accuracy: 0.9312 - val_loss: 0.3809 - val_accuracy: 0.8501 - 3s/epoch - 5ms/step\n",
            "Epoch 5/30\n",
            "625/625 - 3s - loss: 0.1505 - accuracy: 0.9442 - val_loss: 0.4118 - val_accuracy: 0.8432 - 3s/epoch - 5ms/step\n",
            "Epoch 6/30\n",
            "625/625 - 4s - loss: 0.1264 - accuracy: 0.9541 - val_loss: 0.4354 - val_accuracy: 0.8468 - 4s/epoch - 7ms/step\n",
            "Epoch 7/30\n",
            "625/625 - 3s - loss: 0.1067 - accuracy: 0.9629 - val_loss: 0.4806 - val_accuracy: 0.8423 - 3s/epoch - 5ms/step\n",
            "Epoch 8/30\n",
            "625/625 - 3s - loss: 0.0920 - accuracy: 0.9682 - val_loss: 0.5410 - val_accuracy: 0.8334 - 3s/epoch - 5ms/step\n",
            "Epoch 9/30\n",
            "625/625 - 3s - loss: 0.0794 - accuracy: 0.9735 - val_loss: 0.5877 - val_accuracy: 0.8275 - 3s/epoch - 5ms/step\n",
            "Epoch 10/30\n",
            "625/625 - 4s - loss: 0.0686 - accuracy: 0.9785 - val_loss: 0.6341 - val_accuracy: 0.8271 - 4s/epoch - 7ms/step\n",
            "Epoch 11/30\n",
            "625/625 - 3s - loss: 0.0599 - accuracy: 0.9811 - val_loss: 0.6917 - val_accuracy: 0.8249 - 3s/epoch - 5ms/step\n",
            "Epoch 12/30\n",
            "625/625 - 3s - loss: 0.0514 - accuracy: 0.9844 - val_loss: 0.7541 - val_accuracy: 0.8201 - 3s/epoch - 5ms/step\n",
            "Epoch 13/30\n",
            "625/625 - 3s - loss: 0.0452 - accuracy: 0.9863 - val_loss: 0.8089 - val_accuracy: 0.8188 - 3s/epoch - 5ms/step\n",
            "Epoch 14/30\n",
            "625/625 - 4s - loss: 0.0400 - accuracy: 0.9879 - val_loss: 0.8612 - val_accuracy: 0.8183 - 4s/epoch - 6ms/step\n",
            "Epoch 15/30\n",
            "625/625 - 3s - loss: 0.0344 - accuracy: 0.9900 - val_loss: 0.9214 - val_accuracy: 0.8138 - 3s/epoch - 5ms/step\n",
            "Epoch 16/30\n",
            "625/625 - 3s - loss: 0.0307 - accuracy: 0.9912 - val_loss: 0.9858 - val_accuracy: 0.8116 - 3s/epoch - 5ms/step\n",
            "Epoch 17/30\n",
            "625/625 - 4s - loss: 0.0271 - accuracy: 0.9926 - val_loss: 1.0534 - val_accuracy: 0.8073 - 4s/epoch - 6ms/step\n",
            "Epoch 18/30\n",
            "625/625 - 4s - loss: 0.0247 - accuracy: 0.9929 - val_loss: 1.1085 - val_accuracy: 0.8082 - 4s/epoch - 6ms/step\n",
            "Epoch 19/30\n",
            "625/625 - 3s - loss: 0.0226 - accuracy: 0.9927 - val_loss: 1.1703 - val_accuracy: 0.8068 - 3s/epoch - 5ms/step\n",
            "Epoch 20/30\n",
            "625/625 - 3s - loss: 0.0189 - accuracy: 0.9945 - val_loss: 1.2606 - val_accuracy: 0.8086 - 3s/epoch - 5ms/step\n",
            "Epoch 21/30\n",
            "625/625 - 4s - loss: 0.0172 - accuracy: 0.9949 - val_loss: 1.2813 - val_accuracy: 0.8076 - 4s/epoch - 7ms/step\n",
            "Epoch 22/30\n",
            "625/625 - 3s - loss: 0.0157 - accuracy: 0.9956 - val_loss: 1.3706 - val_accuracy: 0.8070 - 3s/epoch - 5ms/step\n",
            "Epoch 23/30\n",
            "625/625 - 3s - loss: 0.0135 - accuracy: 0.9962 - val_loss: 1.4572 - val_accuracy: 0.8030 - 3s/epoch - 5ms/step\n",
            "Epoch 24/30\n",
            "625/625 - 3s - loss: 0.0134 - accuracy: 0.9962 - val_loss: 1.4993 - val_accuracy: 0.8065 - 3s/epoch - 5ms/step\n",
            "Epoch 25/30\n",
            "625/625 - 4s - loss: 0.0113 - accuracy: 0.9965 - val_loss: 1.5430 - val_accuracy: 0.8037 - 4s/epoch - 6ms/step\n",
            "Epoch 26/30\n",
            "625/625 - 3s - loss: 0.0109 - accuracy: 0.9966 - val_loss: 1.6470 - val_accuracy: 0.8015 - 3s/epoch - 5ms/step\n",
            "Epoch 27/30\n",
            "625/625 - 3s - loss: 0.0095 - accuracy: 0.9973 - val_loss: 1.6789 - val_accuracy: 0.8019 - 3s/epoch - 4ms/step\n",
            "Epoch 28/30\n",
            "625/625 - 3s - loss: 0.0075 - accuracy: 0.9983 - val_loss: 1.7471 - val_accuracy: 0.8040 - 3s/epoch - 5ms/step\n",
            "Epoch 29/30\n",
            "625/625 - 4s - loss: 0.0083 - accuracy: 0.9973 - val_loss: 1.8695 - val_accuracy: 0.7998 - 4s/epoch - 7ms/step\n",
            "Epoch 30/30\n",
            "625/625 - 3s - loss: 0.0095 - accuracy: 0.9967 - val_loss: 1.8876 - val_accuracy: 0.8015 - 3s/epoch - 5ms/step\n"
          ]
        }
      ]
    },
    {
      "cell_type": "code",
      "source": [
        "import matplotlib.pyplot as plt\n",
        "\n",
        "# Plot utility\n",
        "def plot_graphs(history, string):\n",
        "  plt.plot(history.history[string])\n",
        "  plt.plot(history.history['val_'+string])\n",
        "  plt.xlabel(\"Epochs\")\n",
        "  plt.ylabel(string)\n",
        "  plt.legend([string, 'val_'+string])\n",
        "  plt.show()\n",
        "  \n",
        "# Plot the accuracy and loss\n",
        "plot_graphs(history, \"accuracy\")\n",
        "plot_graphs(history, \"loss\")"
      ],
      "metadata": {
        "id": "IhYIfVhPJTYS",
        "outputId": "30a94ab2-2e2c-43ea-92ae-4f540a76e372",
        "colab": {
          "base_uri": "https://localhost:8080/",
          "height": 541
        }
      },
      "id": "IhYIfVhPJTYS",
      "execution_count": 33,
      "outputs": [
        {
          "output_type": "display_data",
          "data": {
            "text/plain": [
              "<Figure size 432x288 with 1 Axes>"
            ],
            "image/png": "[encoded data removed]"
          },
          "metadata": {
            "needs_background": "light"
          }
        },
        {
          "output_type": "display_data",
          "data": {
            "text/plain": [
              "<Figure size 432x288 with 1 Axes>"
            ],
            "image/png": "[encoded data removed]"
          },
          "metadata": {
            "needs_background": "light"
          }
        }
      ]
    },
    {
      "cell_type": "code",
      "source": [],
      "metadata": {
        "id": "-KI67VdEJUqR"
      },
      "id": "-KI67VdEJUqR",
      "execution_count": null,
      "outputs": []
    }
  ],
  "metadata": {
    "kernelspec": {
      "display_name": "Python 3 (ipykernel)",
      "language": "python",
      "name": "python3"
    },
    "language_info": {
      "codemirror_mode": {
        "name": "ipython",
        "version": 3
      },
      "file_extension": ".py",
      "mimetype": "text/x-python",
      "name": "python",
      "nbconvert_exporter": "python",
      "pygments_lexer": "ipython3",
      "version": "3.9.16"
    },
    "colab": {
      "provenance": []
    }
  },
  "nbformat": 4,
  "nbformat_minor": 5
}